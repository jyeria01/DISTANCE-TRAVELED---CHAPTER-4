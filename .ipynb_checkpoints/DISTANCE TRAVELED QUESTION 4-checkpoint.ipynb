{
 "cells": [
  {
   "cell_type": "markdown",
   "id": "583d8616",
   "metadata": {},
   "source": [
    "# CHAPTER 4 PROGRAMING EXERCISE 4 - DISTANCE TRAVELED\n",
    "The distance a vehicle travels can be calulated as follows:\n",
    "distance = speed x time\n",
    "If a train travels 40 mph for three hours, the distance traveled is 120 miles\n",
    "write a program that ask the user for the speed of a vehicle (in MPH and the number of hours it has traveled. it should then use a loop to display the distance the vehicle has traveled for each hour of that time period."
   ]
  },
  {
   "cell_type": "code",
   "execution_count": 1,
   "id": "f0553ac4",
   "metadata": {},
   "outputs": [],
   "source": [
    "# Program should give the user amount of distance traveled for each hour entered\n",
    "# Variables for the distance, speed, and time\n",
    "# Get the speed in mph from the user\n",
    "# User enter hours traveled\n",
    "# Display the distance traveled by hour"
   ]
  },
  {
   "cell_type": "code",
   "execution_count": 2,
   "id": "e8b4be4e",
   "metadata": {},
   "outputs": [],
   "source": [
    "# Variables for the distance, speed, and time\n",
    "distance = 0\n",
    "speed = 0.0\n",
    "time = 0"
   ]
  },
  {
   "cell_type": "code",
   "execution_count": 4,
   "id": "61d2c791",
   "metadata": {},
   "outputs": [
    {
     "name": "stdout",
     "output_type": "stream",
     "text": [
      "Enter the speed of the vehicle in MPH: 75\n"
     ]
    }
   ],
   "source": [
    "# Get the speed from the user\n",
    "speed = float(input('Enter the speed of the vehicle in MPH: '))"
   ]
  },
  {
   "cell_type": "code",
   "execution_count": 5,
   "id": "a4bc11f3",
   "metadata": {},
   "outputs": [
    {
     "name": "stdout",
     "output_type": "stream",
     "text": [
      "Enter the number of hours traveled: 3\n"
     ]
    }
   ],
   "source": [
    "# Get the hours traveled from the user\n",
    "time = int(input('Enter the number of hours traveled: '))"
   ]
  },
  {
   "cell_type": "code",
   "execution_count": null,
   "id": "6b8f6d1b",
   "metadata": {},
   "outputs": [],
   "source": []
  }
 ],
 "metadata": {
  "kernelspec": {
   "display_name": "Python 3 (ipykernel)",
   "language": "python",
   "name": "python3"
  },
  "language_info": {
   "codemirror_mode": {
    "name": "ipython",
    "version": 3
   },
   "file_extension": ".py",
   "mimetype": "text/x-python",
   "name": "python",
   "nbconvert_exporter": "python",
   "pygments_lexer": "ipython3",
   "version": "3.11.4"
  }
 },
 "nbformat": 4,
 "nbformat_minor": 5
}
