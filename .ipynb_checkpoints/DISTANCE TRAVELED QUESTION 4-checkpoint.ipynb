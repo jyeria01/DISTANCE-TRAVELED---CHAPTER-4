{
 "cells": [
  {
   "cell_type": "markdown",
   "id": "f9a35a96",
   "metadata": {},
   "source": [
    "# CHAPTER 4 PROGRAMING EXERCISE 4 - DISTANCE TRAVELED\n",
    "The distance a vehicle travels can be calulated as follows:\n",
    "distance = speed x time\n",
    "If a train travels 40 mph for three hours, the distance traveled is 120 miles\n",
    "write a program that ask the user for the speed of a vehicle (in MPH and the number of hours it has traveled. it should then use a loop to display the distance the vehicle has traveled for each hour of that time period."
   ]
  },
  {
   "cell_type": "code",
   "execution_count": 1,
   "id": "efd329be",
   "metadata": {},
   "outputs": [],
   "source": [
    "# Program should give the user amount of distance traveled for each hour entered\n",
    "# Variables for the distance, speed, and time\n",
    "# Get the speed in mph from the user\n",
    "# User enter hours traveled\n",
    "# Display the distance traveled by hour"
   ]
  },
  {
   "cell_type": "code",
   "execution_count": 2,
   "id": "92641419",
   "metadata": {},
   "outputs": [
    {
     "name": "stdout",
     "output_type": "stream",
     "text": [
      "Enter the speed of the vehicle in MPH: 35\n",
      "Enter the number of hours traveled: 5\n",
      "Hours\tDistance\n",
      "----------------\n",
      "1\t35\n",
      "2\t70\n",
      "3\t105\n",
      "4\t140\n",
      "5\t175\n"
     ]
    }
   ],
   "source": [
    "# Variables for the distance, speed, and time\n",
    "distance = 0\n",
    "speed = 0.0\n",
    "time = 0\n",
    "\n",
    "# Get the speed from the user\n",
    "speed = float(input('Enter the speed of the vehicle in MPH: '))\n",
    "\n",
    "# Get the hours traveled from the user\n",
    "time = int(input('Enter the number of hours traveled: '))\n",
    "\n",
    "# Display output for hours and distance\n",
    "print('Hours\\tDistance')\n",
    "print('----------------')\n",
    "\n",
    "# Find hours and distance traveled\n",
    "for hours in range(1, time + 1):\n",
    "    distance = hours * speed\n",
    "    \n",
    "    print(f'{hours}\\t{distance:,.0f}')"
   ]
  }
 ],
 "metadata": {
  "kernelspec": {
   "display_name": "Python 3 (ipykernel)",
   "language": "python",
   "name": "python3"
  },
  "language_info": {
   "codemirror_mode": {
    "name": "ipython",
    "version": 3
   },
   "file_extension": ".py",
   "mimetype": "text/x-python",
   "name": "python",
   "nbconvert_exporter": "python",
   "pygments_lexer": "ipython3",
   "version": "3.11.4"
  }
 },
 "nbformat": 4,
 "nbformat_minor": 5
}
