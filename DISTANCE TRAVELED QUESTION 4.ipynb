{
 "cells": [
  {
   "cell_type": "markdown",
   "id": "2c2a3af2",
   "metadata": {},
   "source": [
    "# CHAPTER 4 PROGRAMING EXERCISE 4 - DISTANCE TRAVELED\n",
    "The distance a vehicle travels can be calulated as follows:\n",
    "distance = speed x time\n",
    "If a train travels 40 mph for three hours, the distance traveled is 120 miles\n",
    "write a program that ask the user for the speed of a vehicle (in MPH and the number of hours it has traveled. it should then use a loop to display the distance the vehicle has traveled for each hour of that time period."
   ]
  },
  {
   "cell_type": "code",
   "execution_count": 1,
   "id": "30c578ac",
   "metadata": {},
   "outputs": [],
   "source": [
    "# Program should give the user amount of distance traveled for each hour entered\n",
    "# Variables for the distance, speed, and time\n",
    "# Get the speed in mph from the user\n",
    "# User enter hours traveled\n",
    "# Display the distance traveled by hour"
   ]
  },
  {
   "cell_type": "code",
   "execution_count": 2,
   "id": "b9a38f0d",
   "metadata": {},
   "outputs": [],
   "source": [
    "# Variables for the distance, speed, and time\n",
    "distance = 0\n",
    "speed = 0.0\n",
    "time = 0"
   ]
  },
  {
   "cell_type": "code",
   "execution_count": 4,
   "id": "8aa47db1",
   "metadata": {},
   "outputs": [
    {
     "name": "stdout",
     "output_type": "stream",
     "text": [
      "Enter the speed of the vehicle in MPH: 75\n"
     ]
    }
   ],
   "source": [
    "# Get the speed from the user\n",
    "speed = float(input('Enter the speed of the vehicle in MPH: '))"
   ]
  },
  {
   "cell_type": "code",
   "execution_count": 5,
   "id": "4b153ea9",
   "metadata": {},
   "outputs": [
    {
     "name": "stdout",
     "output_type": "stream",
     "text": [
      "Enter the number of hours traveled: 3\n"
     ]
    }
   ],
   "source": [
    "# Get the hours traveled from the user\n",
    "time = int(input('Enter the number of hours traveled: '))"
   ]
  },
  {
   "cell_type": "code",
   "execution_count": 9,
   "id": "69aa672b",
   "metadata": {},
   "outputs": [
    {
     "name": "stdout",
     "output_type": "stream",
     "text": [
      "Hours\tDistance\n",
      "----------------\n"
     ]
    }
   ],
   "source": [
    "# Display output for hours and distance\n",
    "print('Hours\\tDistance')\n",
    "print('----------------')"
   ]
  },
  {
   "cell_type": "code",
   "execution_count": 13,
   "id": "fd5baadb",
   "metadata": {},
   "outputs": [],
   "source": [
    "# Find hours and distance traveled\n",
    "for hours in range(1, time + 1):\n",
    "    distance = time * speed"
   ]
  },
  {
   "cell_type": "code",
   "execution_count": 15,
   "id": "8f8cb14e",
   "metadata": {},
   "outputs": [
    {
     "name": "stdout",
     "output_type": "stream",
     "text": [
      "3 \t 225.0\n"
     ]
    }
   ],
   "source": [
    "print (time, '\\t',distance)"
   ]
  },
  {
   "cell_type": "code",
   "execution_count": null,
   "id": "2c72555c",
   "metadata": {},
   "outputs": [],
   "source": []
  }
 ],
 "metadata": {
  "kernelspec": {
   "display_name": "Python 3 (ipykernel)",
   "language": "python",
   "name": "python3"
  },
  "language_info": {
   "codemirror_mode": {
    "name": "ipython",
    "version": 3
   },
   "file_extension": ".py",
   "mimetype": "text/x-python",
   "name": "python",
   "nbconvert_exporter": "python",
   "pygments_lexer": "ipython3",
   "version": "3.11.4"
  }
 },
 "nbformat": 4,
 "nbformat_minor": 5
}
