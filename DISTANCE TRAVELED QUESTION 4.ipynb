{
 "cells": [
  {
   "cell_type": "markdown",
   "id": "8b2e95c9",
   "metadata": {},
   "source": [
    "# CHAPTER 4 PROGRAMING EXERCISE 4 - DISTANCE TRAVELED\n",
    "The distance a vehicle travels can be calulated as follows:\n",
    "distance = speed x time\n",
    "If a train travels 40 mph for three hours, the distance traveled is 120 miles\n",
    "write a program that ask the user for the speed of a vehicle (in MPH and the number of hours it has traveled. it should then use a loop to display the distance the vehicle has traveled for each hour of that time period."
   ]
  },
  {
   "cell_type": "code",
   "execution_count": 1,
   "id": "25d3cd9f",
   "metadata": {},
   "outputs": [],
   "source": [
    "# Program should give the user amount of distance traveled for each hour entered\n",
    "# Variables for the distance, speed, and time\n",
    "# Get the speed in mph from the user\n",
    "# User enter hours traveled\n",
    "# Display the distance traveled by hour"
   ]
  },
  {
   "cell_type": "code",
   "execution_count": 2,
   "id": "f040aa13",
   "metadata": {},
   "outputs": [
    {
     "ename": "SyntaxError",
     "evalue": "invalid decimal literal (3660474409.py, line 20)",
     "output_type": "error",
     "traceback": [
      "\u001b[1;36m  Cell \u001b[1;32mIn[2], line 20\u001b[1;36m\u001b[0m\n\u001b[1;33m    print (time, '\\t',distance:.0f')\u001b[0m\n\u001b[1;37m                                ^\u001b[0m\n\u001b[1;31mSyntaxError\u001b[0m\u001b[1;31m:\u001b[0m invalid decimal literal\n"
     ]
    }
   ],
   "source": [
    "# Variables for the distance, speed, and time\n",
    "distance = 0\n",
    "speed = 0.0\n",
    "time = 0\n",
    "\n",
    "# Get the speed from the user\n",
    "speed = float(input('Enter the speed of the vehicle in MPH: '))\n",
    "\n",
    "# Get the hours traveled from the user\n",
    "time = int(input('Enter the number of hours traveled: '))\n",
    "\n",
    "# Display output for hours and distance\n",
    "print('Hours\\tDistance')\n",
    "print('----------------')\n",
    "\n",
    "# Find hours and distance traveled\n",
    "for hours in range(1, time + 1):\n",
    "    distance = time * speed\n",
    "    \n",
    "    print (time, '\\t',distance:.0f')"
   ]
  },
  {
   "cell_type": "code",
   "execution_count": null,
   "id": "f25005d6",
   "metadata": {},
   "outputs": [],
   "source": []
  }
 ],
 "metadata": {
  "kernelspec": {
   "display_name": "Python 3 (ipykernel)",
   "language": "python",
   "name": "python3"
  },
  "language_info": {
   "codemirror_mode": {
    "name": "ipython",
    "version": 3
   },
   "file_extension": ".py",
   "mimetype": "text/x-python",
   "name": "python",
   "nbconvert_exporter": "python",
   "pygments_lexer": "ipython3",
   "version": "3.11.4"
  }
 },
 "nbformat": 4,
 "nbformat_minor": 5
}
